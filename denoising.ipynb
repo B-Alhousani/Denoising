{
  "nbformat": 4,
  "nbformat_minor": 0,
  "metadata": {
    "colab": {
      "provenance": [],
      "toc_visible": true
    },
    "kernelspec": {
      "name": "python3",
      "display_name": "Python 3"
    },
    "language_info": {
      "name": "python"
    }
  },
  "cells": [
    {
      "cell_type": "markdown",
      "source": [
        "#**1- Import Libraries**"
      ],
      "metadata": {
        "id": "iJo5dxWyX-DI"
      }
    },
    {
      "cell_type": "code",
      "source": [
        "import numpy as np\n",
        "import matplotlib.pyplot as plt\n",
        "from tensorflow.keras.datasets import mnist\n",
        "from tensorflow.keras.models import Model\n",
        "from tensorflow.keras.layers import Input, Conv2D, MaxPooling2D, UpSampling2D\n",
        "from tensorflow.keras import backend as K\n",
        "from tensorflow.keras.optimizers import Adam"
      ],
      "metadata": {
        "id": "o3wSuuAhYru9"
      },
      "execution_count": null,
      "outputs": []
    },
    {
      "cell_type": "markdown",
      "source": [
        "#**2- Reading Data**"
      ],
      "metadata": {
        "id": "sH8hKn9IY1bi"
      }
    },
    {
      "cell_type": "markdown",
      "source": [
        "##loading data"
      ],
      "metadata": {
        "id": "R1aRAqOhbCNr"
      }
    },
    {
      "cell_type": "code",
      "source": [
        "(x_train, y_train), (x_test, y_test) = mnist.load_data()"
      ],
      "metadata": {
        "id": "eKD9atKPY42r"
      },
      "execution_count": null,
      "outputs": []
    },
    {
      "cell_type": "markdown",
      "source": [
        "##check the data shape"
      ],
      "metadata": {
        "id": "rhNL_GktbX4-"
      }
    },
    {
      "cell_type": "code",
      "source": [
        "x_train.shape"
      ],
      "metadata": {
        "colab": {
          "base_uri": "https://localhost:8080/"
        },
        "id": "oKTgGk7FZYKc",
        "outputId": "562f4412-cc32-47e5-96d5-d38bb688709a"
      },
      "execution_count": null,
      "outputs": [
        {
          "output_type": "execute_result",
          "data": {
            "text/plain": [
              "(60000, 28, 28)"
            ]
          },
          "metadata": {},
          "execution_count": 72
        }
      ]
    },
    {
      "cell_type": "code",
      "source": [
        "y_train.shape"
      ],
      "metadata": {
        "colab": {
          "base_uri": "https://localhost:8080/"
        },
        "id": "jgO7uM0TZaN3",
        "outputId": "5990b15e-9038-43d2-edda-ee5051e88bf4"
      },
      "execution_count": null,
      "outputs": [
        {
          "output_type": "execute_result",
          "data": {
            "text/plain": [
              "(60000,)"
            ]
          },
          "metadata": {},
          "execution_count": 73
        }
      ]
    },
    {
      "cell_type": "code",
      "source": [
        "x_test.shape"
      ],
      "metadata": {
        "colab": {
          "base_uri": "https://localhost:8080/"
        },
        "id": "DYegf6p7ZcBX",
        "outputId": "48574e8d-0654-40c0-a536-3f85b852a46a"
      },
      "execution_count": null,
      "outputs": [
        {
          "output_type": "execute_result",
          "data": {
            "text/plain": [
              "(10000, 28, 28)"
            ]
          },
          "metadata": {},
          "execution_count": 74
        }
      ]
    },
    {
      "cell_type": "code",
      "source": [
        "y_test.shape"
      ],
      "metadata": {
        "colab": {
          "base_uri": "https://localhost:8080/"
        },
        "id": "WP7AN0YfZeFh",
        "outputId": "ab4f4b6f-ab4b-4ccd-a990-aa2d1f53272b"
      },
      "execution_count": null,
      "outputs": [
        {
          "output_type": "execute_result",
          "data": {
            "text/plain": [
              "(10000,)"
            ]
          },
          "metadata": {},
          "execution_count": 75
        }
      ]
    },
    {
      "cell_type": "markdown",
      "source": [
        "#**3- Pre processing**"
      ],
      "metadata": {
        "id": "OYDWONY-Y-k6"
      }
    },
    {
      "cell_type": "markdown",
      "source": [
        "##Normalization"
      ],
      "metadata": {
        "id": "vet1_tZvZNt3"
      }
    },
    {
      "cell_type": "code",
      "source": [
        "x_train, x_test = x_train / 255., x_test / 255."
      ],
      "metadata": {
        "id": "Di1VnQ-JcIsI"
      },
      "execution_count": null,
      "outputs": []
    },
    {
      "cell_type": "markdown",
      "source": [
        "##reshape"
      ],
      "metadata": {
        "id": "yJcXWlclpsGl"
      }
    },
    {
      "cell_type": "code",
      "source": [
        "x_train = np.reshape(x_train, (len(x_train), 28, 28, 1))\n",
        "x_test = np.reshape(x_test, (len(x_test), 28, 28, 1))"
      ],
      "metadata": {
        "id": "wrsR1Z0qptqa"
      },
      "execution_count": null,
      "outputs": []
    },
    {
      "cell_type": "markdown",
      "source": [
        "#**4- data augmentation**"
      ],
      "metadata": {
        "id": "lWMpiw59cwJ1"
      }
    },
    {
      "cell_type": "markdown",
      "source": [
        "##Noise function"
      ],
      "metadata": {
        "id": "NifsL_EydmTU"
      }
    },
    {
      "cell_type": "code",
      "source": [
        "def add_noise(x):\n",
        "\n",
        "    noisy_images = []\n",
        "    for img in x:\n",
        "\n",
        "        height, width = img.shape[:-1] # make the height = 28 and the width =28\n",
        "        background = np.random.normal(loc=0.5, scale=0.2, size=(height, width, 1)) # give random number from the normal distrubtion loc is the mean and scale is the standard deviation\n",
        "        blend_factor = 0.5  # is the blend factor which means how much I want to contribute the noise image and the clean image\n",
        "        noisy_img_1 = np.clip(img * blend_factor + background * (1 - blend_factor), 0, 1) # we get the pixel in the image and multiple it by the blend factor and add the background to it so we can add grayscale background\n",
        "\n",
        "\n",
        "        num_speckles = np.random.randint(20, 50) # give random numbers between 20-50\n",
        "        speckled_img = noisy_img_1.copy()\n",
        "        for x in range(num_speckles):\n",
        "            x_co = np.random.randint(0, speckled_img.shape[0] - 2) #random number between 0 to shape -2 so it doesn't go out of range\n",
        "            y_co = np.random.randint(0, speckled_img.shape[1] - 2)#random number between 0 to shape -2 so it doesn't go out of range\n",
        "            speckled_img[x_co:x_co+2, y_co:y_co+2] = np.clip(speckled_img[x_co:x_co+2, y_co:y_co+2] + np.random.normal(scale=0.5, size=(2, 2, 1)), 0, 1) #clip is to make the value between 0,1 the first thing is to put added it to the pixel that we are in a random number\n",
        "\n",
        "\n",
        "\n",
        "        line_start_y = 5 # the y that starts from\n",
        "        line_end_y = 20 # the y that ends in\n",
        "        line_intensity = 1 # the value of the pixel that I want to make the line\n",
        "\n",
        "        x_coords = np.arange(width) # make an array from zero to width-1\n",
        "        y_coords = np.linspace(line_start_y, line_end_y, num=width).astype(int) # give value between the line_start_y and the line_end_y with the same number of width to make sure it is the same\n",
        "        y_coords = np.clip(y_coords, 0, height-1) # lower that y_coords is zero heighr than height-1 is height-1\n",
        "        noisy_img_2 = speckled_img.copy()\n",
        "        noisy_img_2[y_coords, x_coords] = line_intensity # it will move across the y_coords and x_coords and make them white so it will apper as a white line\n",
        "\n",
        "        noisy_images.append(noisy_img_2)\n",
        "\n",
        "    return np.array(noisy_images)"
      ],
      "metadata": {
        "id": "ZKcEV6CxdK1n"
      },
      "execution_count": null,
      "outputs": []
    },
    {
      "cell_type": "markdown",
      "source": [
        "##noise train & test"
      ],
      "metadata": {
        "id": "bubV0L57dPsm"
      }
    },
    {
      "cell_type": "code",
      "source": [
        "x_train_noisy = add_noise(x_train) # add noise to the x_train and store it in x_train_noisy\n",
        "x_test_noisy = add_noise(x_test)  # add noise to the x_test and store it in x_test_noisy"
      ],
      "metadata": {
        "id": "ce_KwsXneSzV"
      },
      "execution_count": null,
      "outputs": []
    },
    {
      "cell_type": "markdown",
      "source": [
        "#5- Build Autoencoder"
      ],
      "metadata": {
        "id": "NB6rw8HVeYbL"
      }
    },
    {
      "cell_type": "markdown",
      "source": [
        "##encoder"
      ],
      "metadata": {
        "id": "RIqa1-QJeesO"
      }
    },
    {
      "cell_type": "code",
      "source": [
        "input_img = Input(shape=(28, 28, 1))\n",
        "\n",
        "x = Conv2D(32, (3, 3), activation='relu', padding='same')(input_img)\n",
        "x = MaxPooling2D((2, 2), padding='same')(x)\n",
        "x = Conv2D(32, (3, 3), activation='relu', padding='same')(x)"
      ],
      "metadata": {
        "id": "UI_DAZgUecJT"
      },
      "execution_count": null,
      "outputs": []
    },
    {
      "cell_type": "markdown",
      "source": [
        "##bottleneck"
      ],
      "metadata": {
        "id": "lWE-s8SZeicQ"
      }
    },
    {
      "cell_type": "code",
      "source": [
        "encoded = MaxPooling2D((2, 2), padding='same')(x)"
      ],
      "metadata": {
        "id": "vR5sYo8FepH6"
      },
      "execution_count": null,
      "outputs": []
    },
    {
      "cell_type": "markdown",
      "source": [
        "##decoder"
      ],
      "metadata": {
        "id": "xFtdtAbZeuWZ"
      }
    },
    {
      "cell_type": "code",
      "source": [
        "x = Conv2D(32, (3, 3), activation='relu', padding='same')(encoded)\n",
        "x = UpSampling2D((2, 2))(x)\n",
        "x = Conv2D(32, (3, 3), activation='relu', padding='same')(x)\n",
        "x = UpSampling2D((2, 2))(x)\n",
        "decoded = Conv2D(1, (3, 3), activation='sigmoid', padding='same')(x)"
      ],
      "metadata": {
        "id": "ShWff1tDewWa"
      },
      "execution_count": null,
      "outputs": []
    },
    {
      "cell_type": "markdown",
      "source": [
        "##compile"
      ],
      "metadata": {
        "id": "7urOksjne3nq"
      }
    },
    {
      "cell_type": "code",
      "source": [
        "autoencoder = Model(input_img, decoded)\n",
        "autoencoder.compile(optimizer=Adam(), loss='binary_crossentropy')"
      ],
      "metadata": {
        "id": "PKLxVD_Ze5V2"
      },
      "execution_count": null,
      "outputs": []
    },
    {
      "cell_type": "markdown",
      "source": [
        "##fitting and predict"
      ],
      "metadata": {
        "id": "I03PzUCEe6Iw"
      }
    },
    {
      "cell_type": "code",
      "source": [
        "autoencoder.fit(x_train_noisy, x_train,\n",
        "                epochs=15,\n",
        "                batch_size=128,\n",
        "                shuffle=True,\n",
        "                validation_data=(x_test_noisy, x_test),\n",
        "                verbose=2)\n",
        "\n",
        "decoded_imgs = autoencoder.predict(x_test_noisy)"
      ],
      "metadata": {
        "colab": {
          "base_uri": "https://localhost:8080/"
        },
        "id": "oE1-z7vzfArI",
        "outputId": "809318dd-7d50-4009-a627-946584ec9ab4"
      },
      "execution_count": null,
      "outputs": [
        {
          "output_type": "stream",
          "name": "stdout",
          "text": [
            "Epoch 1/15\n",
            "469/469 - 120s - loss: 0.1741 - val_loss: 0.1187 - 120s/epoch - 256ms/step\n",
            "Epoch 2/15\n",
            "469/469 - 119s - loss: 0.1135 - val_loss: 0.1076 - 119s/epoch - 253ms/step\n",
            "Epoch 3/15\n",
            "469/469 - 120s - loss: 0.1064 - val_loss: 0.1039 - 120s/epoch - 256ms/step\n",
            "Epoch 4/15\n",
            "469/469 - 123s - loss: 0.1028 - val_loss: 0.1004 - 123s/epoch - 262ms/step\n",
            "Epoch 5/15\n",
            "469/469 - 119s - loss: 0.1003 - val_loss: 0.0992 - 119s/epoch - 254ms/step\n",
            "Epoch 6/15\n",
            "469/469 - 124s - loss: 0.0983 - val_loss: 0.0966 - 124s/epoch - 265ms/step\n",
            "Epoch 7/15\n",
            "469/469 - 120s - loss: 0.0969 - val_loss: 0.0955 - 120s/epoch - 257ms/step\n",
            "Epoch 8/15\n",
            "469/469 - 130s - loss: 0.0955 - val_loss: 0.0942 - 130s/epoch - 277ms/step\n",
            "Epoch 9/15\n",
            "469/469 - 120s - loss: 0.0941 - val_loss: 0.0930 - 120s/epoch - 256ms/step\n",
            "Epoch 10/15\n",
            "469/469 - 119s - loss: 0.0931 - val_loss: 0.0920 - 119s/epoch - 253ms/step\n",
            "Epoch 11/15\n",
            "469/469 - 120s - loss: 0.0922 - val_loss: 0.0912 - 120s/epoch - 257ms/step\n",
            "Epoch 12/15\n",
            "469/469 - 119s - loss: 0.0917 - val_loss: 0.0908 - 119s/epoch - 255ms/step\n",
            "Epoch 13/15\n",
            "469/469 - 119s - loss: 0.0911 - val_loss: 0.0902 - 119s/epoch - 253ms/step\n",
            "Epoch 14/15\n",
            "469/469 - 123s - loss: 0.0907 - val_loss: 0.0905 - 123s/epoch - 263ms/step\n",
            "Epoch 15/15\n",
            "469/469 - 120s - loss: 0.0903 - val_loss: 0.0896 - 120s/epoch - 255ms/step\n",
            "313/313 [==============================] - 5s 16ms/step\n"
          ]
        }
      ]
    },
    {
      "cell_type": "markdown",
      "source": [
        "#5- visualize"
      ],
      "metadata": {
        "id": "tig-ljQ2fBHg"
      }
    },
    {
      "cell_type": "code",
      "source": [
        "n = 10\n",
        "plt.figure(figsize=(20, 4))\n",
        "for i in range(n):\n",
        "    ax = plt.subplot(2, n, i+1)\n",
        "    plt.imshow(x_test_noisy[i].reshape(28, 28), cmap='gray')\n",
        "    ax.get_xaxis().set_visible(False)\n",
        "    ax.get_yaxis().set_visible(False)\n",
        "\n",
        "    ax = plt.subplot(2, n, i + n + 1)\n",
        "    plt.imshow(decoded_imgs[i].reshape(28, 28), cmap='gray')\n",
        "    ax.get_xaxis().set_visible(False)\n",
        "    ax.get_yaxis().set_visible(False)\n",
        "plt.show()"
      ],
      "metadata": {
        "colab": {
          "base_uri": "https://localhost:8080/",
          "height": 232
        },
        "id": "Y_vIuka6fFC0",
        "outputId": "d3b3e093-f611-44b9-9aa9-cc441b4958f5"
      },
      "execution_count": null,
      "outputs": [
        {
          "output_type": "display_data",
          "data": {
            "text/plain": [
              "<Figure size 2000x400 with 20 Axes>"
            ],
            "image/png": "[encoded data removed]"
          },
          "metadata": {}
        }
      ]
    }
  ]
}